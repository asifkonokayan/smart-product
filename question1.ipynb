{
  "nbformat": 4,
  "nbformat_minor": 0,
  "metadata": {
    "colab": {
      "provenance": [],
      "authorship_tag": "ABX9TyPNUYTcKStLSqJSQnpHyueT",
      "include_colab_link": true
    },
    "kernelspec": {
      "name": "python3",
      "display_name": "Python 3"
    },
    "language_info": {
      "name": "python"
    }
  },
  "cells": [
    {
      "cell_type": "markdown",
      "metadata": {
        "id": "view-in-github",
        "colab_type": "text"
      },
      "source": [
        "<a href=\"https://colab.research.google.com/github/asifkonokayan/smart-product/blob/main/question1.ipynb\" target=\"_parent\"><img src=\"https://colab.research.google.com/assets/colab-badge.svg\" alt=\"Open In Colab\"/></a>"
      ]
    },
    {
      "cell_type": "code",
      "execution_count": null,
      "metadata": {
        "id": "DcEZr4ResMoI"
      },
      "outputs": [],
      "source": [
        "# Create a simple calculator that performs basic arithmetic operations (addition, subtraction, multiplication, division) based on user input.\n",
        "\n",
        "x = float(input(\"Enter the first number: \"))\n",
        "y = float(input(\"Enter the second number: \"))\n",
        "\n",
        "operation = input(\"Enter the operation (+, -, *, /): \")\n",
        "\n",
        "if operation == \"+\":\n",
        "    result = x + y\n",
        "elif operation == \"-\":\n",
        "    result = x - y\n",
        "elif operation == \"*\":\n",
        "    result = x * y\n",
        "elif operation == \"/\":\n",
        "    result = x / y\n",
        "else:\n",
        "    print(\"Invalid operation\")\n",
        "    result = None\n",
        "\n",
        "if result is not None:\n",
        "    print(f\"{x} {operation} {y}: {result}\")"
      ]
    }
  ]
}